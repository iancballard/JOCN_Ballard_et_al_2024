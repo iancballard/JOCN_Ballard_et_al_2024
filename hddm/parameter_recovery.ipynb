{
 "cells": [
  {
   "cell_type": "code",
   "execution_count": 66,
   "id": "364dc081",
   "metadata": {},
   "outputs": [
    {
     "name": "stdout",
     "output_type": "stream",
     "text": [
      "hddm92\n"
     ]
    }
   ],
   "source": [
    "import hddm\n",
    "import os\n",
    "import sys\n",
    "import copy\n",
    "import seaborn as sns\n",
    "import pandas as pd\n",
    "import glob\n",
    "import matplotlib.pyplot as plt\n",
    "import scipy.stats\n",
    "from kabuki.analyze import gelman_rubin\n",
    "from kabuki.analyze import check_geweke\n",
    "import kabuki\n",
    "print (os.environ['CONDA_DEFAULT_ENV'])\n",
    "%matplotlib inline"
   ]
  },
  {
   "cell_type": "code",
   "execution_count": 2,
   "id": "7015fa61",
   "metadata": {},
   "outputs": [
    {
     "data": {
      "text/plain": [
       "'0.9.5'"
      ]
     },
     "execution_count": 2,
     "metadata": {},
     "output_type": "execute_result"
    }
   ],
   "source": [
    "#sys.path\n",
    "hddm.__version__ "
   ]
  },
  {
   "cell_type": "code",
   "execution_count": 3,
   "id": "86247761",
   "metadata": {},
   "outputs": [],
   "source": [
    "os.chdir('/home/despo/iballard/')\n",
    "real_data = hddm.load_csv('/home/despo/rule_habit/hddm_data_full_center.csv')\n",
    "real_data = real_data[real_data['cond'] == 'reward']\n",
    "n_subjects = 1#len(set(real_data['sub']))"
   ]
  },
  {
   "cell_type": "code",
   "execution_count": 4,
   "id": "f1b722ac",
   "metadata": {},
   "outputs": [
    {
     "name": "stderr",
     "output_type": "stream",
     "text": [
      "/home/despo/iballard/anaconda3/envs/hddm92/lib/python3.7/site-packages/ipykernel_launcher.py:2: SettingWithCopyWarning: \n",
      "A value is trying to be set on a copy of a slice from a DataFrame.\n",
      "Try using .loc[row_indexer,col_indexer] = value instead\n",
      "\n",
      "See the caveats in the documentation: https://pandas.pydata.org/pandas-docs/stable/user_guide/indexing.html#returning-a-view-versus-a-copy\n",
      "  \n"
     ]
    },
    {
     "data": {
      "text/html": [
       "<div>\n",
       "<style scoped>\n",
       "    .dataframe tbody tr th:only-of-type {\n",
       "        vertical-align: middle;\n",
       "    }\n",
       "\n",
       "    .dataframe tbody tr th {\n",
       "        vertical-align: top;\n",
       "    }\n",
       "\n",
       "    .dataframe thead th {\n",
       "        text-align: right;\n",
       "    }\n",
       "</style>\n",
       "<table border=\"1\" class=\"dataframe\">\n",
       "  <thead>\n",
       "    <tr style=\"text-align: right;\">\n",
       "      <th></th>\n",
       "      <th>index</th>\n",
       "      <th>rt</th>\n",
       "      <th>response</th>\n",
       "      <th>coherence</th>\n",
       "      <th>coherence_bin</th>\n",
       "      <th>subj_idx</th>\n",
       "      <th>coherence_float</th>\n",
       "      <th>rt_flip</th>\n",
       "      <th>coherence_center</th>\n",
       "      <th>counter</th>\n",
       "    </tr>\n",
       "    <tr>\n",
       "      <th>miniblock_type</th>\n",
       "      <th></th>\n",
       "      <th></th>\n",
       "      <th></th>\n",
       "      <th></th>\n",
       "      <th></th>\n",
       "      <th></th>\n",
       "      <th></th>\n",
       "      <th></th>\n",
       "      <th></th>\n",
       "      <th></th>\n",
       "    </tr>\n",
       "  </thead>\n",
       "  <tbody>\n",
       "    <tr>\n",
       "      <th>compete</th>\n",
       "      <td>481731</td>\n",
       "      <td>247.206940</td>\n",
       "      <td>108</td>\n",
       "      <td>109.12</td>\n",
       "      <td>284</td>\n",
       "      <td>564</td>\n",
       "      <td>284.0</td>\n",
       "      <td>37.458034</td>\n",
       "      <td>1.312741</td>\n",
       "      <td>188</td>\n",
       "    </tr>\n",
       "    <tr>\n",
       "      <th>noncompete</th>\n",
       "      <td>478630</td>\n",
       "      <td>246.664336</td>\n",
       "      <td>119</td>\n",
       "      <td>108.48</td>\n",
       "      <td>281</td>\n",
       "      <td>561</td>\n",
       "      <td>281.0</td>\n",
       "      <td>64.196867</td>\n",
       "      <td>-0.026372</td>\n",
       "      <td>187</td>\n",
       "    </tr>\n",
       "    <tr>\n",
       "      <th>rewarded</th>\n",
       "      <td>470679</td>\n",
       "      <td>236.501654</td>\n",
       "      <td>133</td>\n",
       "      <td>14.80</td>\n",
       "      <td>278</td>\n",
       "      <td>552</td>\n",
       "      <td>278.0</td>\n",
       "      <td>102.919379</td>\n",
       "      <td>1.322871</td>\n",
       "      <td>184</td>\n",
       "    </tr>\n",
       "  </tbody>\n",
       "</table>\n",
       "</div>"
      ],
      "text/plain": [
       "                 index          rt  response  coherence  coherence_bin  \\\n",
       "miniblock_type                                                           \n",
       "compete         481731  247.206940       108     109.12            284   \n",
       "noncompete      478630  246.664336       119     108.48            281   \n",
       "rewarded        470679  236.501654       133      14.80            278   \n",
       "\n",
       "                subj_idx  coherence_float     rt_flip  coherence_center  \\\n",
       "miniblock_type                                                            \n",
       "compete              564            284.0   37.458034          1.312741   \n",
       "noncompete           561            281.0   64.196867         -0.026372   \n",
       "rewarded             552            278.0  102.919379          1.322871   \n",
       "\n",
       "                counter  \n",
       "miniblock_type           \n",
       "compete             188  \n",
       "noncompete          187  \n",
       "rewarded            184  "
      ]
     },
     "execution_count": 4,
     "metadata": {},
     "output_type": "execute_result"
    }
   ],
   "source": [
    "sample = real_data[real_data['sub'] == 'subj13']\n",
    "sample['counter'] = 1\n",
    "sample.groupby('miniblock_type').sum()"
   ]
  },
  {
   "cell_type": "code",
   "execution_count": 5,
   "id": "51101d7b",
   "metadata": {},
   "outputs": [
    {
     "data": {
      "text/plain": [
       "[-1.3441776374896397,\n",
       " -0.44974757815494015,\n",
       " 0.4446824811797591,\n",
       " 1.3391125405144584]"
      ]
     },
     "execution_count": 5,
     "metadata": {},
     "output_type": "execute_result"
    }
   ],
   "source": [
    "coherence = list(set(real_data['coherence_center']))\n",
    "coherence.sort()\n",
    "coherence"
   ]
  },
  {
   "cell_type": "code",
   "execution_count": 6,
   "id": "abd875ba",
   "metadata": {},
   "outputs": [],
   "source": [
    "v_intercept = 0.827654\n",
    "v_coherence_center = 0.425295\n",
    "a_intercept = 1.619\n",
    "t_intercept = 0.739154\n",
    "\n",
    "a_compete = 0.00488717\n",
    "a_reward = 0.024066\n",
    "\n",
    "v_compete = -0.0181477\n",
    "v_reward = 0.0920351\n",
    "\n",
    "t_compete = 0.0102455\n",
    "t_reward = 0.000698769"
   ]
  },
  {
   "cell_type": "code",
   "execution_count": 7,
   "id": "9986df8d",
   "metadata": {},
   "outputs": [],
   "source": [
    "trials_per_level = 192 /4 #trials per condition for each coherence level\n",
    "\n",
    "all_data = []\n",
    "for c in coherence:\n",
    "\n",
    "    #Next we set up parameters of the drift diffusion process for the three levels and the first stimulus. As desribed earlier v and z change accross levels\n",
    "\n",
    "\n",
    "    noncompete = {'v':v_intercept + c*v_coherence_center, \n",
    "                  'a':a_intercept, \n",
    "                  't':t_intercept, \n",
    "                  'sv':0, 'z':.5, 'sz':0, 'st':0}\n",
    "\n",
    "    compete = {'v':v_intercept + c*v_coherence_center + v_compete, \n",
    "               'a':a_intercept + a_compete,\n",
    "               't':t_intercept + t_compete,\n",
    "               'sv':0, 'z':.5, 'sz':0, 'st':0}\n",
    "\n",
    "    reward = {'v':v_intercept + c*v_coherence_center + v_reward, \n",
    "              'a':a_intercept + a_reward, \n",
    "              't':t_intercept + t_reward, \n",
    "              'sv':0, 'z':.5, 'sz':0, 'st':0}\n",
    "\n",
    "    #Now we generate the data for stimulus A\n",
    "    data_a, params_a = hddm.generate.gen_rand_data({'noncompete': noncompete,\n",
    "                                                    'compete': compete,\n",
    "                                                    'reward': reward},\n",
    "                                                    size=trials_per_level,\n",
    "                                                    subjs=n_subjects)\n",
    "    \n",
    "    data_a['coherence'] = c\n",
    "    \n",
    "    all_data.append(data_a.copy())\n",
    "all_data = pd.concat(all_data)"
   ]
  },
  {
   "cell_type": "code",
   "execution_count": 8,
   "id": "29fa9383",
   "metadata": {},
   "outputs": [],
   "source": [
    "# all_data.to_csv('/home/despo/rule_habit/hddm_data_full_simulated.csv')"
   ]
  },
  {
   "cell_type": "code",
   "execution_count": 13,
   "id": "04a391f8",
   "metadata": {},
   "outputs": [
    {
     "data": {
      "text/plain": [
       "(576, 5)"
      ]
     },
     "execution_count": 13,
     "metadata": {},
     "output_type": "execute_result"
    }
   ],
   "source": [
    "all_data.shape"
   ]
  },
  {
   "cell_type": "code",
   "execution_count": 102,
   "id": "0ac3d8e9",
   "metadata": {},
   "outputs": [],
   "source": [
    "all_data = hddm.utils.flip_errors(all_data)\n"
   ]
  },
  {
   "cell_type": "code",
   "execution_count": 104,
   "id": "85d0e21b",
   "metadata": {},
   "outputs": [],
   "source": [
    "# burn = 500\n",
    "# samples = 1000\n",
    "# m = hddm.HDDMRegressor(all_data, ['v ~ coherence + C(condition, Treatment(\"noncompete\"))',\n",
    "#     \t\t\t\t\t\t\t  'a ~ C(condition, Treatment(\"noncompete\"))',\n",
    "#     \t\t\t\t\t\t\t  't ~ C(condition, Treatment(\"noncompete\"))'],\n",
    "#                            p_outlier=.05)\n",
    "# m.find_starting_values()\n",
    "# m.sample(samples, burn=burn)"
   ]
  },
  {
   "cell_type": "code",
   "execution_count": 70,
   "id": "7a23b58b",
   "metadata": {},
   "outputs": [
    {
     "data": {
      "text/html": [
       "<div>\n",
       "<style scoped>\n",
       "    .dataframe tbody tr th:only-of-type {\n",
       "        vertical-align: middle;\n",
       "    }\n",
       "\n",
       "    .dataframe tbody tr th {\n",
       "        vertical-align: top;\n",
       "    }\n",
       "\n",
       "    .dataframe thead th {\n",
       "        text-align: right;\n",
       "    }\n",
       "</style>\n",
       "<table border=\"1\" class=\"dataframe\">\n",
       "  <thead>\n",
       "    <tr style=\"text-align: right;\">\n",
       "      <th></th>\n",
       "      <th>mean</th>\n",
       "      <th>std</th>\n",
       "      <th>2.5q</th>\n",
       "      <th>25q</th>\n",
       "      <th>50q</th>\n",
       "      <th>75q</th>\n",
       "      <th>97.5q</th>\n",
       "      <th>mc err</th>\n",
       "    </tr>\n",
       "  </thead>\n",
       "  <tbody>\n",
       "    <tr>\n",
       "      <th>v_Intercept</th>\n",
       "      <td>0.796708</td>\n",
       "      <td>0.059905</td>\n",
       "      <td>0.736742</td>\n",
       "      <td>0.745119</td>\n",
       "      <td>0.763805</td>\n",
       "      <td>0.859738</td>\n",
       "      <td>0.878135</td>\n",
       "      <td>0.0267903</td>\n",
       "    </tr>\n",
       "    <tr>\n",
       "      <th>v_C(condition, Treatment(\"noncompete\"))[T.compete]</th>\n",
       "      <td>10.6021</td>\n",
       "      <td>9.46198</td>\n",
       "      <td>-1.67266</td>\n",
       "      <td>7.42316</td>\n",
       "      <td>8.21454</td>\n",
       "      <td>11.712</td>\n",
       "      <td>27.3334</td>\n",
       "      <td>4.23153</td>\n",
       "    </tr>\n",
       "    <tr>\n",
       "      <th>v_C(condition, Treatment(\"noncompete\"))[T.reward]</th>\n",
       "      <td>5.62169</td>\n",
       "      <td>6.51208</td>\n",
       "      <td>-3.98986</td>\n",
       "      <td>0.492126</td>\n",
       "      <td>7.05772</td>\n",
       "      <td>11.0981</td>\n",
       "      <td>13.4504</td>\n",
       "      <td>2.91229</td>\n",
       "    </tr>\n",
       "    <tr>\n",
       "      <th>v_coherence</th>\n",
       "      <td>-0.047634</td>\n",
       "      <td>0.0251685</td>\n",
       "      <td>-0.0702699</td>\n",
       "      <td>-0.063372</td>\n",
       "      <td>-0.0561609</td>\n",
       "      <td>-0.0490297</td>\n",
       "      <td>0.000662437</td>\n",
       "      <td>0.0112557</td>\n",
       "    </tr>\n",
       "    <tr>\n",
       "      <th>a_Intercept</th>\n",
       "      <td>1.58519</td>\n",
       "      <td>0.0170233</td>\n",
       "      <td>1.55809</td>\n",
       "      <td>1.57462</td>\n",
       "      <td>1.5885</td>\n",
       "      <td>1.6019</td>\n",
       "      <td>1.60286</td>\n",
       "      <td>0.00761303</td>\n",
       "    </tr>\n",
       "    <tr>\n",
       "      <th>a_C(condition, Treatment(\"noncompete\"))[T.compete]</th>\n",
       "      <td>-7.86107</td>\n",
       "      <td>9.29272</td>\n",
       "      <td>-17.6964</td>\n",
       "      <td>-15.2579</td>\n",
       "      <td>-11.9504</td>\n",
       "      <td>-1.46072</td>\n",
       "      <td>7.06004</td>\n",
       "      <td>4.15583</td>\n",
       "    </tr>\n",
       "    <tr>\n",
       "      <th>a_C(condition, Treatment(\"noncompete\"))[T.reward]</th>\n",
       "      <td>-5.94735</td>\n",
       "      <td>9.83054</td>\n",
       "      <td>-23.5679</td>\n",
       "      <td>-6.77056</td>\n",
       "      <td>-4.64808</td>\n",
       "      <td>-0.794339</td>\n",
       "      <td>6.04411</td>\n",
       "      <td>4.39635</td>\n",
       "    </tr>\n",
       "    <tr>\n",
       "      <th>t_Intercept</th>\n",
       "      <td>0.736232</td>\n",
       "      <td>0.00200386</td>\n",
       "      <td>0.733346</td>\n",
       "      <td>0.735077</td>\n",
       "      <td>0.735834</td>\n",
       "      <td>0.738003</td>\n",
       "      <td>0.738901</td>\n",
       "      <td>0.000896153</td>\n",
       "    </tr>\n",
       "    <tr>\n",
       "      <th>t_C(condition, Treatment(\"noncompete\"))[T.compete]</th>\n",
       "      <td>1.73076</td>\n",
       "      <td>7.83363</td>\n",
       "      <td>-8.36569</td>\n",
       "      <td>-3.48484</td>\n",
       "      <td>-1.30366</td>\n",
       "      <td>10.6008</td>\n",
       "      <td>11.2072</td>\n",
       "      <td>3.5033</td>\n",
       "    </tr>\n",
       "    <tr>\n",
       "      <th>t_C(condition, Treatment(\"noncompete\"))[T.reward]</th>\n",
       "      <td>0.158019</td>\n",
       "      <td>10.235</td>\n",
       "      <td>-10.6149</td>\n",
       "      <td>-9.2633</td>\n",
       "      <td>-2.63881</td>\n",
       "      <td>6.81407</td>\n",
       "      <td>16.493</td>\n",
       "      <td>4.57722</td>\n",
       "    </tr>\n",
       "  </tbody>\n",
       "</table>\n",
       "</div>"
      ],
      "text/plain": [
       "                                                        mean         std  \\\n",
       "v_Intercept                                         0.796708    0.059905   \n",
       "v_C(condition, Treatment(\"noncompete\"))[T.compete]   10.6021     9.46198   \n",
       "v_C(condition, Treatment(\"noncompete\"))[T.reward]    5.62169     6.51208   \n",
       "v_coherence                                        -0.047634   0.0251685   \n",
       "a_Intercept                                          1.58519   0.0170233   \n",
       "a_C(condition, Treatment(\"noncompete\"))[T.compete]  -7.86107     9.29272   \n",
       "a_C(condition, Treatment(\"noncompete\"))[T.reward]   -5.94735     9.83054   \n",
       "t_Intercept                                         0.736232  0.00200386   \n",
       "t_C(condition, Treatment(\"noncompete\"))[T.compete]   1.73076     7.83363   \n",
       "t_C(condition, Treatment(\"noncompete\"))[T.reward]   0.158019      10.235   \n",
       "\n",
       "                                                         2.5q       25q  \\\n",
       "v_Intercept                                          0.736742  0.745119   \n",
       "v_C(condition, Treatment(\"noncompete\"))[T.compete]   -1.67266   7.42316   \n",
       "v_C(condition, Treatment(\"noncompete\"))[T.reward]    -3.98986  0.492126   \n",
       "v_coherence                                        -0.0702699 -0.063372   \n",
       "a_Intercept                                           1.55809   1.57462   \n",
       "a_C(condition, Treatment(\"noncompete\"))[T.compete]   -17.6964  -15.2579   \n",
       "a_C(condition, Treatment(\"noncompete\"))[T.reward]    -23.5679  -6.77056   \n",
       "t_Intercept                                          0.733346  0.735077   \n",
       "t_C(condition, Treatment(\"noncompete\"))[T.compete]   -8.36569  -3.48484   \n",
       "t_C(condition, Treatment(\"noncompete\"))[T.reward]    -10.6149   -9.2633   \n",
       "\n",
       "                                                          50q        75q  \\\n",
       "v_Intercept                                          0.763805   0.859738   \n",
       "v_C(condition, Treatment(\"noncompete\"))[T.compete]    8.21454     11.712   \n",
       "v_C(condition, Treatment(\"noncompete\"))[T.reward]     7.05772    11.0981   \n",
       "v_coherence                                        -0.0561609 -0.0490297   \n",
       "a_Intercept                                            1.5885     1.6019   \n",
       "a_C(condition, Treatment(\"noncompete\"))[T.compete]   -11.9504   -1.46072   \n",
       "a_C(condition, Treatment(\"noncompete\"))[T.reward]    -4.64808  -0.794339   \n",
       "t_Intercept                                          0.735834   0.738003   \n",
       "t_C(condition, Treatment(\"noncompete\"))[T.compete]   -1.30366    10.6008   \n",
       "t_C(condition, Treatment(\"noncompete\"))[T.reward]    -2.63881    6.81407   \n",
       "\n",
       "                                                          97.5q       mc err  \n",
       "v_Intercept                                            0.878135    0.0267903  \n",
       "v_C(condition, Treatment(\"noncompete\"))[T.compete]      27.3334      4.23153  \n",
       "v_C(condition, Treatment(\"noncompete\"))[T.reward]       13.4504      2.91229  \n",
       "v_coherence                                         0.000662437    0.0112557  \n",
       "a_Intercept                                             1.60286   0.00761303  \n",
       "a_C(condition, Treatment(\"noncompete\"))[T.compete]      7.06004      4.15583  \n",
       "a_C(condition, Treatment(\"noncompete\"))[T.reward]       6.04411      4.39635  \n",
       "t_Intercept                                            0.738901  0.000896153  \n",
       "t_C(condition, Treatment(\"noncompete\"))[T.compete]      11.2072       3.5033  \n",
       "t_C(condition, Treatment(\"noncompete\"))[T.reward]        16.493      4.57722  "
      ]
     },
     "execution_count": 70,
     "metadata": {},
     "output_type": "execute_result"
    }
   ],
   "source": [
    "m.gen_stats()"
   ]
  },
  {
   "cell_type": "code",
   "execution_count": null,
   "id": "cb30a00d",
   "metadata": {},
   "outputs": [],
   "source": []
  },
  {
   "cell_type": "code",
   "execution_count": 10,
   "id": "8dcad381",
   "metadata": {},
   "outputs": [
    {
     "name": "stdout",
     "output_type": "stream",
     "text": [
      "0\n",
      "1\n",
      "2\n",
      "3\n",
      "4\n"
     ]
    }
   ],
   "source": [
    "nchains = 5\n",
    "chains = []\n",
    "for i in range(nchains):\n",
    "    chain = hddm.load('./models/reward_block_a_v_t_thin_simulated_chain_' + str(i))\n",
    "    chains.append(chain)\n",
    "    print(i)"
   ]
  },
  {
   "cell_type": "code",
   "execution_count": 11,
   "id": "82b9f541",
   "metadata": {},
   "outputs": [],
   "source": [
    "combined_model = kabuki.utils.concat_models(chains)"
   ]
  },
  {
   "cell_type": "code",
   "execution_count": 55,
   "id": "d9ea38ad",
   "metadata": {},
   "outputs": [],
   "source": [
    "original = {'v_intercept' : 0.827654,\n",
    "'v_coherence_center' : 0.425295,\n",
    "'a_intercept' : 1.619,\n",
    "'t_intercept' : 0.739154,\n",
    "'a_compete' : 0.00488717,\n",
    "'a_reward' : 0.024066,\n",
    "'v_compete' : -0.0181477,\n",
    "'v_reward' : 0.0920351,\n",
    "'t_compete' : 0.0102455,\n",
    "'t_reward' : 0.000698769}\n",
    "original = pd.DataFrame(original, index = [0])\n",
    "# original['parameters'] = 'veridical'\n",
    "\n",
    "original.columns.name = 'parameter'\n",
    "original = original.stack()\n",
    "original.name = 'value'\n",
    "original = original.reset_index()\n",
    "original = original.sort_values(by = ['parameter'])\n",
    "original['parameters'] = 'veridical'"
   ]
  },
  {
   "cell_type": "code",
   "execution_count": 56,
   "id": "df111e36",
   "metadata": {},
   "outputs": [],
   "source": [
    "new = {'v_intercept' : 0.787178,\n",
    "'v_coherence_center' : 0.376946,\n",
    "'v_compete' : -0.000243889,\n",
    "'v_reward' : 0.0810647,\n",
    "'a_intercept' : 1.70509,\n",
    "'a_compete' : -0.00641649,\n",
    "'a_reward' : 0.0396683,\n",
    "'t_intercept' : 0.665747,\n",
    "'t_compete' : 0.0123109,\n",
    "'t_reward' : -0.00213291}\n",
    "new = pd.DataFrame(new, index = [0])\n",
    "\n",
    "new.columns.name = 'parameter'\n",
    "new = new.stack()\n",
    "new.name = 'value'\n",
    "new = new.reset_index()\n",
    "new['parameters'] = 'recovered'\n",
    "new = new.sort_values(by = ['parameter'])\n",
    "params = pd.concat([original,new])"
   ]
  },
  {
   "cell_type": "code",
   "execution_count": 69,
   "id": "974ee045",
   "metadata": {},
   "outputs": [
    {
     "name": "stdout",
     "output_type": "stream",
     "text": [
      "0.017600393028288353\n"
     ]
    },
    {
     "data": {
      "text/plain": [
       "(0.9971109517958047, 3.037321573367998e-10)"
      ]
     },
     "execution_count": 69,
     "metadata": {},
     "output_type": "execute_result"
    }
   ],
   "source": [
    "diff = new['value'].values - original['value'].values\n",
    "diff = [x**2 for x in diff]\n",
    "print(sum(diff))\n",
    "\n",
    "scipy.stats.pearsonr(new['value'],\n",
    "                    original['value'])"
   ]
  },
  {
   "cell_type": "code",
   "execution_count": 80,
   "id": "d212899d",
   "metadata": {},
   "outputs": [
    {
     "data": {
      "text/plain": [
       "0.5113952530880284"
      ]
     },
     "execution_count": 80,
     "metadata": {},
     "output_type": "execute_result"
    }
   ],
   "source": [
    "import numpy as np\n",
    "diff = new['value'].values - original['value'].values\n",
    "\n",
    "diff = [x**2 for x in diff]\n",
    "\n",
    "np.mean([100*d/x for d,x in zip(diff,original['value'].values)])"
   ]
  },
  {
   "cell_type": "code",
   "execution_count": 62,
   "id": "38949cd1",
   "metadata": {},
   "outputs": [
    {
     "data": {
      "text/html": [
       "<div>\n",
       "<style scoped>\n",
       "    .dataframe tbody tr th:only-of-type {\n",
       "        vertical-align: middle;\n",
       "    }\n",
       "\n",
       "    .dataframe tbody tr th {\n",
       "        vertical-align: top;\n",
       "    }\n",
       "\n",
       "    .dataframe thead th {\n",
       "        text-align: right;\n",
       "    }\n",
       "</style>\n",
       "<table border=\"1\" class=\"dataframe\">\n",
       "  <thead>\n",
       "    <tr style=\"text-align: right;\">\n",
       "      <th></th>\n",
       "      <th>level_0</th>\n",
       "      <th>parameter</th>\n",
       "      <th>value</th>\n",
       "      <th>parameters</th>\n",
       "    </tr>\n",
       "  </thead>\n",
       "  <tbody>\n",
       "    <tr>\n",
       "      <th>4</th>\n",
       "      <td>0</td>\n",
       "      <td>a_compete</td>\n",
       "      <td>0.004887</td>\n",
       "      <td>veridical</td>\n",
       "    </tr>\n",
       "    <tr>\n",
       "      <th>2</th>\n",
       "      <td>0</td>\n",
       "      <td>a_intercept</td>\n",
       "      <td>1.619000</td>\n",
       "      <td>veridical</td>\n",
       "    </tr>\n",
       "    <tr>\n",
       "      <th>5</th>\n",
       "      <td>0</td>\n",
       "      <td>a_reward</td>\n",
       "      <td>0.024066</td>\n",
       "      <td>veridical</td>\n",
       "    </tr>\n",
       "    <tr>\n",
       "      <th>8</th>\n",
       "      <td>0</td>\n",
       "      <td>t_compete</td>\n",
       "      <td>0.010245</td>\n",
       "      <td>veridical</td>\n",
       "    </tr>\n",
       "    <tr>\n",
       "      <th>3</th>\n",
       "      <td>0</td>\n",
       "      <td>t_intercept</td>\n",
       "      <td>0.739154</td>\n",
       "      <td>veridical</td>\n",
       "    </tr>\n",
       "    <tr>\n",
       "      <th>9</th>\n",
       "      <td>0</td>\n",
       "      <td>t_reward</td>\n",
       "      <td>0.000699</td>\n",
       "      <td>veridical</td>\n",
       "    </tr>\n",
       "    <tr>\n",
       "      <th>1</th>\n",
       "      <td>0</td>\n",
       "      <td>v_coherence_center</td>\n",
       "      <td>0.425295</td>\n",
       "      <td>veridical</td>\n",
       "    </tr>\n",
       "    <tr>\n",
       "      <th>6</th>\n",
       "      <td>0</td>\n",
       "      <td>v_compete</td>\n",
       "      <td>-0.018148</td>\n",
       "      <td>veridical</td>\n",
       "    </tr>\n",
       "    <tr>\n",
       "      <th>0</th>\n",
       "      <td>0</td>\n",
       "      <td>v_intercept</td>\n",
       "      <td>0.827654</td>\n",
       "      <td>veridical</td>\n",
       "    </tr>\n",
       "    <tr>\n",
       "      <th>7</th>\n",
       "      <td>0</td>\n",
       "      <td>v_reward</td>\n",
       "      <td>0.092035</td>\n",
       "      <td>veridical</td>\n",
       "    </tr>\n",
       "  </tbody>\n",
       "</table>\n",
       "</div>"
      ],
      "text/plain": [
       "   level_0           parameter     value parameters\n",
       "4        0           a_compete  0.004887  veridical\n",
       "2        0         a_intercept  1.619000  veridical\n",
       "5        0            a_reward  0.024066  veridical\n",
       "8        0           t_compete  0.010245  veridical\n",
       "3        0         t_intercept  0.739154  veridical\n",
       "9        0            t_reward  0.000699  veridical\n",
       "1        0  v_coherence_center  0.425295  veridical\n",
       "6        0           v_compete -0.018148  veridical\n",
       "0        0         v_intercept  0.827654  veridical\n",
       "7        0            v_reward  0.092035  veridical"
      ]
     },
     "execution_count": 62,
     "metadata": {},
     "output_type": "execute_result"
    }
   ],
   "source": [
    "original"
   ]
  },
  {
   "cell_type": "code",
   "execution_count": null,
   "id": "c766e78b",
   "metadata": {},
   "outputs": [],
   "source": []
  }
 ],
 "metadata": {
  "kernelspec": {
   "display_name": "Python 3 (ipykernel)",
   "language": "python",
   "name": "python3"
  },
  "language_info": {
   "codemirror_mode": {
    "name": "ipython",
    "version": 3
   },
   "file_extension": ".py",
   "mimetype": "text/x-python",
   "name": "python",
   "nbconvert_exporter": "python",
   "pygments_lexer": "ipython3",
   "version": "3.9.7"
  }
 },
 "nbformat": 4,
 "nbformat_minor": 5
}
